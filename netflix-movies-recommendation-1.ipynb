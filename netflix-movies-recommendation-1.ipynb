{
 "cells": [
  {
   "cell_type": "code",
   "execution_count": 1,
   "metadata": {
    "_cell_guid": "b1076dfc-b9ad-4769-8c92-a6c4dae69d19",
    "_uuid": "8f2839f25d086af736a60e9eeb907d3b93b6e0e5",
    "execution": {
     "iopub.execute_input": "2024-03-26T00:36:22.647648Z",
     "iopub.status.busy": "2024-03-26T00:36:22.646915Z",
     "iopub.status.idle": "2024-03-26T00:36:22.660181Z",
     "shell.execute_reply": "2024-03-26T00:36:22.660791Z",
     "shell.execute_reply.started": "2024-03-25T23:30:12.645774Z"
    },
    "papermill": {
     "duration": 0.057067,
     "end_time": "2024-03-26T00:36:22.660965",
     "exception": false,
     "start_time": "2024-03-26T00:36:22.603898",
     "status": "completed"
    },
    "tags": []
   },
   "outputs": [
    {
     "name": "stdout",
     "output_type": "stream",
     "text": [
      "/kaggle/input/netflix-prize-data/combined_data_3.txt\n",
      "/kaggle/input/netflix-prize-data/movie_titles.csv\n",
      "/kaggle/input/netflix-prize-data/combined_data_4.txt\n",
      "/kaggle/input/netflix-prize-data/combined_data_1.txt\n",
      "/kaggle/input/netflix-prize-data/README\n",
      "/kaggle/input/netflix-prize-data/probe.txt\n",
      "/kaggle/input/netflix-prize-data/combined_data_2.txt\n",
      "/kaggle/input/netflix-prize-data/qualifying.txt\n",
      "/kaggle/input/finalll-data/filtered_active_movies (1).csv\n"
     ]
    }
   ],
   "source": [
    "# This Python 3 environment comes with many helpful analytics libraries installed\n",
    "# It is defined by the kaggle/python Docker image: https://github.com/kaggle/docker-python\n",
    "# For example, here's several helpful packages to load\n",
    "\n",
    "import numpy as np # linear algebra\n",
    "import pandas as pd # data processing, CSV file I/O (e.g. pd.read_csv)\n",
    "\n",
    "# Input data files are available in the read-only \"../input/\" directory\n",
    "# For example, running this (by clicking run or pressing Shift+Enter) will list all files under the input directory\n",
    "\n",
    "import os\n",
    "for dirname, _, filenames in os.walk('/kaggle/input'):\n",
    "    for filename in filenames:\n",
    "        print(os.path.join(dirname, filename))\n",
    "\n",
    "# You can write up to 5GB to the current directory (/kaggle/working/) that gets preserved as output when you create a version using \"Save & Run All\" \n",
    "# You can also write temporary files to /kaggle/temp/, but they won't be saved outside of the current session"
   ]
  },
  {
   "cell_type": "code",
   "execution_count": 2,
   "metadata": {
    "_cell_guid": "79c7e3d0-c299-4dcb-8224-4455121ee9b0",
    "_uuid": "d629ff2d2480ee46fbb7e2d37f6b5fab8052498a",
    "execution": {
     "iopub.execute_input": "2024-03-26T00:36:22.734556Z",
     "iopub.status.busy": "2024-03-26T00:36:22.733973Z",
     "iopub.status.idle": "2024-03-26T00:37:00.209050Z",
     "shell.execute_reply": "2024-03-26T00:37:00.208404Z"
    },
    "papermill": {
     "duration": 37.513892,
     "end_time": "2024-03-26T00:37:00.209177",
     "exception": false,
     "start_time": "2024-03-26T00:36:22.695285",
     "status": "completed"
    },
    "tags": []
   },
   "outputs": [],
   "source": [
    "# Reading dataset file\n",
    "dataset = pd.read_csv('/kaggle/input/finalll-data/filtered_active_movies (1).csv')\n"
   ]
  },
  {
   "cell_type": "code",
   "execution_count": 3,
   "metadata": {
    "execution": {
     "iopub.execute_input": "2024-03-26T00:37:00.285952Z",
     "iopub.status.busy": "2024-03-26T00:37:00.284651Z",
     "iopub.status.idle": "2024-03-26T00:37:00.926392Z",
     "shell.execute_reply": "2024-03-26T00:37:00.926930Z",
     "shell.execute_reply.started": "2024-03-25T23:32:39.259438Z"
    },
    "papermill": {
     "duration": 0.683215,
     "end_time": "2024-03-26T00:37:00.927077",
     "exception": false,
     "start_time": "2024-03-26T00:37:00.243862",
     "status": "completed"
    },
    "tags": []
   },
   "outputs": [
    {
     "data": {
      "text/html": [
       "<div>\n",
       "<style scoped>\n",
       "    .dataframe tbody tr th:only-of-type {\n",
       "        vertical-align: middle;\n",
       "    }\n",
       "\n",
       "    .dataframe tbody tr th {\n",
       "        vertical-align: top;\n",
       "    }\n",
       "\n",
       "    .dataframe thead th {\n",
       "        text-align: right;\n",
       "    }\n",
       "</style>\n",
       "<table border=\"1\" class=\"dataframe\">\n",
       "  <thead>\n",
       "    <tr style=\"text-align: right;\">\n",
       "      <th></th>\n",
       "      <th>MovieID</th>\n",
       "      <th>CustomerID</th>\n",
       "      <th>Rating</th>\n",
       "      <th>Title</th>\n",
       "    </tr>\n",
       "  </thead>\n",
       "  <tbody>\n",
       "    <tr>\n",
       "      <th>0</th>\n",
       "      <td>8</td>\n",
       "      <td>785314</td>\n",
       "      <td>1.0</td>\n",
       "      <td>What the #$*! Do We Know!?</td>\n",
       "    </tr>\n",
       "    <tr>\n",
       "      <th>1</th>\n",
       "      <td>8</td>\n",
       "      <td>243963</td>\n",
       "      <td>3.0</td>\n",
       "      <td>What the #$*! Do We Know!?</td>\n",
       "    </tr>\n",
       "    <tr>\n",
       "      <th>2</th>\n",
       "      <td>8</td>\n",
       "      <td>1447783</td>\n",
       "      <td>4.0</td>\n",
       "      <td>What the #$*! Do We Know!?</td>\n",
       "    </tr>\n",
       "    <tr>\n",
       "      <th>3</th>\n",
       "      <td>8</td>\n",
       "      <td>1912665</td>\n",
       "      <td>1.0</td>\n",
       "      <td>What the #$*! Do We Know!?</td>\n",
       "    </tr>\n",
       "    <tr>\n",
       "      <th>4</th>\n",
       "      <td>8</td>\n",
       "      <td>1744889</td>\n",
       "      <td>1.0</td>\n",
       "      <td>What the #$*! Do We Know!?</td>\n",
       "    </tr>\n",
       "  </tbody>\n",
       "</table>\n",
       "</div>"
      ],
      "text/plain": [
       "   MovieID  CustomerID  Rating                       Title\n",
       "0        8      785314     1.0  What the #$*! Do We Know!?\n",
       "1        8      243963     3.0  What the #$*! Do We Know!?\n",
       "2        8     1447783     4.0  What the #$*! Do We Know!?\n",
       "3        8     1912665     1.0  What the #$*! Do We Know!?\n",
       "4        8     1744889     1.0  What the #$*! Do We Know!?"
      ]
     },
     "execution_count": 3,
     "metadata": {},
     "output_type": "execute_result"
    }
   ],
   "source": [
    "# Convert Ratings column to a float\n",
    "dataset['Rating'] = dataset['Rating'].astype(float)\n",
    "dataset.head()"
   ]
  },
  {
   "cell_type": "code",
   "execution_count": 4,
   "metadata": {
    "execution": {
     "iopub.execute_input": "2024-03-26T00:37:01.003203Z",
     "iopub.status.busy": "2024-03-26T00:37:01.002451Z",
     "iopub.status.idle": "2024-03-26T00:37:01.006138Z",
     "shell.execute_reply": "2024-03-26T00:37:01.005520Z",
     "shell.execute_reply.started": "2024-03-25T23:32:57.796989Z"
    },
    "papermill": {
     "duration": 0.04382,
     "end_time": "2024-03-26T00:37:01.006238",
     "exception": false,
     "start_time": "2024-03-26T00:37:00.962418",
     "status": "completed"
    },
    "tags": []
   },
   "outputs": [
    {
     "data": {
      "text/plain": [
       "MovieID         int64\n",
       "CustomerID      int64\n",
       "Rating        float64\n",
       "Title          object\n",
       "dtype: object"
      ]
     },
     "execution_count": 4,
     "metadata": {},
     "output_type": "execute_result"
    }
   ],
   "source": [
    "#To print the datatype of columns\n",
    "dataset.dtypes"
   ]
  },
  {
   "cell_type": "code",
   "execution_count": 5,
   "metadata": {
    "execution": {
     "iopub.execute_input": "2024-03-26T00:37:01.081468Z",
     "iopub.status.busy": "2024-03-26T00:37:01.080832Z",
     "iopub.status.idle": "2024-03-26T00:37:01.084111Z",
     "shell.execute_reply": "2024-03-26T00:37:01.083502Z",
     "shell.execute_reply.started": "2024-03-25T23:33:04.243175Z"
    },
    "papermill": {
     "duration": 0.043159,
     "end_time": "2024-03-26T00:37:01.084212",
     "exception": false,
     "start_time": "2024-03-26T00:37:01.041053",
     "status": "completed"
    },
    "tags": []
   },
   "outputs": [
    {
     "data": {
      "text/plain": [
       "(55541107, 4)"
      ]
     },
     "execution_count": 5,
     "metadata": {},
     "output_type": "execute_result"
    }
   ],
   "source": [
    "#To inspect the shape of the datset\n",
    "dataset.shape"
   ]
  },
  {
   "cell_type": "code",
   "execution_count": 6,
   "metadata": {
    "execution": {
     "iopub.execute_input": "2024-03-26T00:37:01.165067Z",
     "iopub.status.busy": "2024-03-26T00:37:01.164297Z",
     "iopub.status.idle": "2024-03-26T00:37:01.168134Z",
     "shell.execute_reply": "2024-03-26T00:37:01.167614Z",
     "shell.execute_reply.started": "2024-03-25T23:33:10.588992Z"
    },
    "papermill": {
     "duration": 0.048735,
     "end_time": "2024-03-26T00:37:01.168242",
     "exception": false,
     "start_time": "2024-03-26T00:37:01.119507",
     "status": "completed"
    },
    "tags": []
   },
   "outputs": [
    {
     "data": {
      "text/html": [
       "<div>\n",
       "<style scoped>\n",
       "    .dataframe tbody tr th:only-of-type {\n",
       "        vertical-align: middle;\n",
       "    }\n",
       "\n",
       "    .dataframe tbody tr th {\n",
       "        vertical-align: top;\n",
       "    }\n",
       "\n",
       "    .dataframe thead th {\n",
       "        text-align: right;\n",
       "    }\n",
       "</style>\n",
       "<table border=\"1\" class=\"dataframe\">\n",
       "  <thead>\n",
       "    <tr style=\"text-align: right;\">\n",
       "      <th></th>\n",
       "      <th>MovieID</th>\n",
       "      <th>CustomerID</th>\n",
       "      <th>Rating</th>\n",
       "      <th>Title</th>\n",
       "    </tr>\n",
       "  </thead>\n",
       "  <tbody>\n",
       "    <tr>\n",
       "      <th>0</th>\n",
       "      <td>8</td>\n",
       "      <td>785314</td>\n",
       "      <td>1.0</td>\n",
       "      <td>What the #$*! Do We Know!?</td>\n",
       "    </tr>\n",
       "    <tr>\n",
       "      <th>1</th>\n",
       "      <td>8</td>\n",
       "      <td>243963</td>\n",
       "      <td>3.0</td>\n",
       "      <td>What the #$*! Do We Know!?</td>\n",
       "    </tr>\n",
       "    <tr>\n",
       "      <th>2</th>\n",
       "      <td>8</td>\n",
       "      <td>1447783</td>\n",
       "      <td>4.0</td>\n",
       "      <td>What the #$*! Do We Know!?</td>\n",
       "    </tr>\n",
       "    <tr>\n",
       "      <th>3</th>\n",
       "      <td>8</td>\n",
       "      <td>1912665</td>\n",
       "      <td>1.0</td>\n",
       "      <td>What the #$*! Do We Know!?</td>\n",
       "    </tr>\n",
       "    <tr>\n",
       "      <th>4</th>\n",
       "      <td>8</td>\n",
       "      <td>1744889</td>\n",
       "      <td>1.0</td>\n",
       "      <td>What the #$*! Do We Know!?</td>\n",
       "    </tr>\n",
       "  </tbody>\n",
       "</table>\n",
       "</div>"
      ],
      "text/plain": [
       "   MovieID  CustomerID  Rating                       Title\n",
       "0        8      785314     1.0  What the #$*! Do We Know!?\n",
       "1        8      243963     3.0  What the #$*! Do We Know!?\n",
       "2        8     1447783     4.0  What the #$*! Do We Know!?\n",
       "3        8     1912665     1.0  What the #$*! Do We Know!?\n",
       "4        8     1744889     1.0  What the #$*! Do We Know!?"
      ]
     },
     "execution_count": 6,
     "metadata": {},
     "output_type": "execute_result"
    }
   ],
   "source": [
    "#To print the head of dataset\n",
    "dataset.head()"
   ]
  },
  {
   "cell_type": "code",
   "execution_count": 7,
   "metadata": {
    "execution": {
     "iopub.execute_input": "2024-03-26T00:37:01.246539Z",
     "iopub.status.busy": "2024-03-26T00:37:01.245977Z",
     "iopub.status.idle": "2024-03-26T00:37:02.364192Z",
     "shell.execute_reply": "2024-03-26T00:37:02.363449Z",
     "shell.execute_reply.started": "2024-03-25T23:33:16.849387Z"
    },
    "papermill": {
     "duration": 1.16024,
     "end_time": "2024-03-26T00:37:02.364320",
     "exception": false,
     "start_time": "2024-03-26T00:37:01.204080",
     "status": "completed"
    },
    "tags": []
   },
   "outputs": [
    {
     "data": {
      "text/html": [
       "<div>\n",
       "<style scoped>\n",
       "    .dataframe tbody tr th:only-of-type {\n",
       "        vertical-align: middle;\n",
       "    }\n",
       "\n",
       "    .dataframe tbody tr th {\n",
       "        vertical-align: top;\n",
       "    }\n",
       "\n",
       "    .dataframe thead th {\n",
       "        text-align: right;\n",
       "    }\n",
       "</style>\n",
       "<table border=\"1\" class=\"dataframe\">\n",
       "  <thead>\n",
       "    <tr style=\"text-align: right;\">\n",
       "      <th></th>\n",
       "      <th>count</th>\n",
       "    </tr>\n",
       "    <tr>\n",
       "      <th>Rating</th>\n",
       "      <th></th>\n",
       "    </tr>\n",
       "  </thead>\n",
       "  <tbody>\n",
       "    <tr>\n",
       "      <th>1.0</th>\n",
       "      <td>2159842</td>\n",
       "    </tr>\n",
       "    <tr>\n",
       "      <th>2.0</th>\n",
       "      <td>5639526</td>\n",
       "    </tr>\n",
       "    <tr>\n",
       "      <th>3.0</th>\n",
       "      <td>16990340</td>\n",
       "    </tr>\n",
       "    <tr>\n",
       "      <th>4.0</th>\n",
       "      <td>18983836</td>\n",
       "    </tr>\n",
       "    <tr>\n",
       "      <th>5.0</th>\n",
       "      <td>11767563</td>\n",
       "    </tr>\n",
       "  </tbody>\n",
       "</table>\n",
       "</div>"
      ],
      "text/plain": [
       "           count\n",
       "Rating          \n",
       "1.0      2159842\n",
       "2.0      5639526\n",
       "3.0     16990340\n",
       "4.0     18983836\n",
       "5.0     11767563"
      ]
     },
     "execution_count": 7,
     "metadata": {},
     "output_type": "execute_result"
    }
   ],
   "source": [
    "#To find the distribution of different ratings in the datset\n",
    "d = dataset.groupby('Rating')['Rating'].agg(['count'])\n",
    "d =pd.DataFrame(d)\n",
    "d"
   ]
  },
  {
   "cell_type": "code",
   "execution_count": 8,
   "metadata": {
    "execution": {
     "iopub.execute_input": "2024-03-26T00:37:02.445045Z",
     "iopub.status.busy": "2024-03-26T00:37:02.444364Z",
     "iopub.status.idle": "2024-03-26T00:37:02.545564Z",
     "shell.execute_reply": "2024-03-26T00:37:02.545074Z",
     "shell.execute_reply.started": "2024-03-25T23:33:50.114902Z"
    },
    "papermill": {
     "duration": 0.142127,
     "end_time": "2024-03-26T00:37:02.545679",
     "exception": false,
     "start_time": "2024-03-26T00:37:02.403552",
     "status": "completed"
    },
    "tags": []
   },
   "outputs": [
    {
     "data": {
      "text/plain": [
       "0"
      ]
     },
     "execution_count": 8,
     "metadata": {},
     "output_type": "execute_result"
    }
   ],
   "source": [
    "movie_count = dataset['Rating'].isnull().sum()\n",
    "movie_count"
   ]
  },
  {
   "cell_type": "markdown",
   "metadata": {
    "papermill": {
     "duration": 0.036696,
     "end_time": "2024-03-26T00:37:02.619597",
     "exception": false,
     "start_time": "2024-03-26T00:37:02.582901",
     "status": "completed"
    },
    "tags": []
   },
   "source": []
  },
  {
   "cell_type": "code",
   "execution_count": 9,
   "metadata": {
    "execution": {
     "iopub.execute_input": "2024-03-26T00:37:02.699388Z",
     "iopub.status.busy": "2024-03-26T00:37:02.698770Z",
     "iopub.status.idle": "2024-03-26T00:37:03.267471Z",
     "shell.execute_reply": "2024-03-26T00:37:03.266853Z",
     "shell.execute_reply.started": "2024-03-25T23:35:06.599978Z"
    },
    "papermill": {
     "duration": 0.61046,
     "end_time": "2024-03-26T00:37:03.267586",
     "exception": false,
     "start_time": "2024-03-26T00:37:02.657126",
     "status": "completed"
    },
    "tags": []
   },
   "outputs": [
    {
     "data": {
      "text/plain": [
       "96260"
      ]
     },
     "execution_count": 9,
     "metadata": {},
     "output_type": "execute_result"
    }
   ],
   "source": [
    "# get customer count\n",
    "cust_count = dataset['CustomerID'].nunique()-movie_count\n",
    "\n",
    "cust_count"
   ]
  },
  {
   "cell_type": "markdown",
   "metadata": {
    "papermill": {
     "duration": 0.037228,
     "end_time": "2024-03-26T00:37:03.342064",
     "exception": false,
     "start_time": "2024-03-26T00:37:03.304836",
     "status": "completed"
    },
    "tags": []
   },
   "source": [
    "## Observation\n",
    "\n",
    "- The number of customers is 96260"
   ]
  },
  {
   "cell_type": "code",
   "execution_count": 10,
   "metadata": {
    "execution": {
     "iopub.execute_input": "2024-03-26T00:37:03.425423Z",
     "iopub.status.busy": "2024-03-26T00:37:03.423857Z",
     "iopub.status.idle": "2024-03-26T00:37:03.494336Z",
     "shell.execute_reply": "2024-03-26T00:37:03.493743Z",
     "shell.execute_reply.started": "2024-03-25T23:35:51.558376Z"
    },
    "papermill": {
     "duration": 0.114966,
     "end_time": "2024-03-26T00:37:03.494448",
     "exception": false,
     "start_time": "2024-03-26T00:37:03.379482",
     "status": "completed"
    },
    "tags": []
   },
   "outputs": [
    {
     "data": {
      "text/plain": [
       "55541107"
      ]
     },
     "execution_count": 10,
     "metadata": {},
     "output_type": "execute_result"
    }
   ],
   "source": [
    "# get rating count\n",
    "\n",
    "rating_count = dataset['CustomerID'].count() - movie_count\n",
    "rating_count"
   ]
  },
  {
   "cell_type": "markdown",
   "metadata": {
    "papermill": {
     "duration": 0.037501,
     "end_time": "2024-03-26T00:37:03.569536",
     "exception": false,
     "start_time": "2024-03-26T00:37:03.532035",
     "status": "completed"
    },
    "tags": []
   },
   "source": [
    "## Observation\n",
    "\n",
    "- The total number of ratings is 55541107"
   ]
  },
  {
   "cell_type": "markdown",
   "metadata": {
    "papermill": {
     "duration": 0.037456,
     "end_time": "2024-03-26T00:37:03.644088",
     "exception": false,
     "start_time": "2024-03-26T00:37:03.606632",
     "status": "completed"
    },
    "tags": []
   },
   "source": [
    "## To plot the distribution of the ratings in as a bar plot"
   ]
  },
  {
   "cell_type": "code",
   "execution_count": 11,
   "metadata": {
    "execution": {
     "iopub.execute_input": "2024-03-26T00:37:03.727282Z",
     "iopub.status.busy": "2024-03-26T00:37:03.726417Z",
     "iopub.status.idle": "2024-03-26T00:37:03.963561Z",
     "shell.execute_reply": "2024-03-26T00:37:03.964053Z",
     "shell.execute_reply.started": "2024-03-25T23:36:19.760468Z"
    },
    "papermill": {
     "duration": 0.282565,
     "end_time": "2024-03-26T00:37:03.964191",
     "exception": false,
     "start_time": "2024-03-26T00:37:03.681626",
     "status": "completed"
    },
    "tags": []
   },
   "outputs": [
    {
     "data": {
      "image/png": "[encoded data removed]",
      "text/plain": [
       "<Figure size 1080x720 with 1 Axes>"
      ]
     },
     "metadata": {
      "needs_background": "light"
     },
     "output_type": "display_data"
    }
   ],
   "source": [
    "import matplotlib.pyplot as plt\n",
    "ax = d.plot(kind = 'barh', legend = False, figsize = (15,10))\n",
    "plt.title(f'Total pool: {movie_count} Movies, {cust_count} customers, {rating_count} ratings given', fontsize=20)\n",
    "plt.axis('On')\n",
    "\n",
    "for i in range(1,6):\n",
    "    ax.text(d.iloc[i-1][0]/4, i-1,'Rating {}: {:.0f}%'.format(i, d.iloc[i-1][0]*100 / d.sum()[0]), color = 'white', weight = 'bold')"
   ]
  },
  {
   "cell_type": "code",
   "execution_count": 12,
   "metadata": {
    "execution": {
     "iopub.execute_input": "2024-03-26T00:37:04.052617Z",
     "iopub.status.busy": "2024-03-26T00:37:04.051667Z",
     "iopub.status.idle": "2024-03-26T00:37:04.055429Z",
     "shell.execute_reply": "2024-03-26T00:37:04.054856Z"
    },
    "papermill": {
     "duration": 0.05222,
     "end_time": "2024-03-26T00:37:04.055529",
     "exception": false,
     "start_time": "2024-03-26T00:37:04.003309",
     "status": "completed"
    },
    "tags": []
   },
   "outputs": [
    {
     "data": {
      "text/html": [
       "<div>\n",
       "<style scoped>\n",
       "    .dataframe tbody tr th:only-of-type {\n",
       "        vertical-align: middle;\n",
       "    }\n",
       "\n",
       "    .dataframe tbody tr th {\n",
       "        vertical-align: top;\n",
       "    }\n",
       "\n",
       "    .dataframe thead th {\n",
       "        text-align: right;\n",
       "    }\n",
       "</style>\n",
       "<table border=\"1\" class=\"dataframe\">\n",
       "  <thead>\n",
       "    <tr style=\"text-align: right;\">\n",
       "      <th></th>\n",
       "      <th>MovieID</th>\n",
       "      <th>CustomerID</th>\n",
       "      <th>Rating</th>\n",
       "      <th>Title</th>\n",
       "    </tr>\n",
       "  </thead>\n",
       "  <tbody>\n",
       "    <tr>\n",
       "      <th>0</th>\n",
       "      <td>8</td>\n",
       "      <td>785314</td>\n",
       "      <td>1.0</td>\n",
       "      <td>What the #$*! Do We Know!?</td>\n",
       "    </tr>\n",
       "    <tr>\n",
       "      <th>1</th>\n",
       "      <td>8</td>\n",
       "      <td>243963</td>\n",
       "      <td>3.0</td>\n",
       "      <td>What the #$*! Do We Know!?</td>\n",
       "    </tr>\n",
       "    <tr>\n",
       "      <th>2</th>\n",
       "      <td>8</td>\n",
       "      <td>1447783</td>\n",
       "      <td>4.0</td>\n",
       "      <td>What the #$*! Do We Know!?</td>\n",
       "    </tr>\n",
       "    <tr>\n",
       "      <th>3</th>\n",
       "      <td>8</td>\n",
       "      <td>1912665</td>\n",
       "      <td>1.0</td>\n",
       "      <td>What the #$*! Do We Know!?</td>\n",
       "    </tr>\n",
       "    <tr>\n",
       "      <th>4</th>\n",
       "      <td>8</td>\n",
       "      <td>1744889</td>\n",
       "      <td>1.0</td>\n",
       "      <td>What the #$*! Do We Know!?</td>\n",
       "    </tr>\n",
       "  </tbody>\n",
       "</table>\n",
       "</div>"
      ],
      "text/plain": [
       "   MovieID  CustomerID  Rating                       Title\n",
       "0        8      785314     1.0  What the #$*! Do We Know!?\n",
       "1        8      243963     3.0  What the #$*! Do We Know!?\n",
       "2        8     1447783     4.0  What the #$*! Do We Know!?\n",
       "3        8     1912665     1.0  What the #$*! Do We Know!?\n",
       "4        8     1744889     1.0  What the #$*! Do We Know!?"
      ]
     },
     "execution_count": 12,
     "metadata": {},
     "output_type": "execute_result"
    }
   ],
   "source": [
    "dataset.head()"
   ]
  },
  {
   "cell_type": "code",
   "execution_count": 13,
   "metadata": {
    "execution": {
     "iopub.execute_input": "2024-03-26T00:37:04.141117Z",
     "iopub.status.busy": "2024-03-26T00:37:04.140434Z",
     "iopub.status.idle": "2024-03-26T00:37:04.205148Z",
     "shell.execute_reply": "2024-03-26T00:37:04.204592Z",
     "shell.execute_reply.started": "2024-03-25T23:40:14.221221Z"
    },
    "papermill": {
     "duration": 0.108997,
     "end_time": "2024-03-26T00:37:04.205263",
     "exception": false,
     "start_time": "2024-03-26T00:37:04.096266",
     "status": "completed"
    },
    "tags": []
   },
   "outputs": [
    {
     "data": {
      "text/html": [
       "<div>\n",
       "<style scoped>\n",
       "    .dataframe tbody tr th:only-of-type {\n",
       "        vertical-align: middle;\n",
       "    }\n",
       "\n",
       "    .dataframe tbody tr th {\n",
       "        vertical-align: top;\n",
       "    }\n",
       "\n",
       "    .dataframe thead th {\n",
       "        text-align: right;\n",
       "    }\n",
       "</style>\n",
       "<table border=\"1\" class=\"dataframe\">\n",
       "  <thead>\n",
       "    <tr style=\"text-align: right;\">\n",
       "      <th></th>\n",
       "      <th>Rating</th>\n",
       "    </tr>\n",
       "  </thead>\n",
       "  <tbody>\n",
       "    <tr>\n",
       "      <th>0</th>\n",
       "      <td>False</td>\n",
       "    </tr>\n",
       "    <tr>\n",
       "      <th>1</th>\n",
       "      <td>False</td>\n",
       "    </tr>\n",
       "    <tr>\n",
       "      <th>2</th>\n",
       "      <td>False</td>\n",
       "    </tr>\n",
       "    <tr>\n",
       "      <th>3</th>\n",
       "      <td>False</td>\n",
       "    </tr>\n",
       "    <tr>\n",
       "      <th>4</th>\n",
       "      <td>False</td>\n",
       "    </tr>\n",
       "  </tbody>\n",
       "</table>\n",
       "</div>"
      ],
      "text/plain": [
       "   Rating\n",
       "0   False\n",
       "1   False\n",
       "2   False\n",
       "3   False\n",
       "4   False"
      ]
     },
     "execution_count": 13,
     "metadata": {},
     "output_type": "execute_result"
    }
   ],
   "source": [
    "# To count all the 'nan' values in the Ratings column in the 'ratings' dataset\n",
    "df_nan = pd.DataFrame(pd.isnull(dataset.Rating),)\n",
    "\n",
    "df_nan.head()"
   ]
  },
  {
   "cell_type": "code",
   "execution_count": 14,
   "metadata": {
    "execution": {
     "iopub.execute_input": "2024-03-26T00:37:04.291576Z",
     "iopub.status.busy": "2024-03-26T00:37:04.290920Z",
     "iopub.status.idle": "2024-03-26T00:37:04.539773Z",
     "shell.execute_reply": "2024-03-26T00:37:04.539174Z"
    },
    "papermill": {
     "duration": 0.293884,
     "end_time": "2024-03-26T00:37:04.539916",
     "exception": false,
     "start_time": "2024-03-26T00:37:04.246032",
     "status": "completed"
    },
    "tags": []
   },
   "outputs": [
    {
     "data": {
      "text/html": [
       "<div>\n",
       "<style scoped>\n",
       "    .dataframe tbody tr th:only-of-type {\n",
       "        vertical-align: middle;\n",
       "    }\n",
       "\n",
       "    .dataframe tbody tr th {\n",
       "        vertical-align: top;\n",
       "    }\n",
       "\n",
       "    .dataframe thead th {\n",
       "        text-align: right;\n",
       "    }\n",
       "</style>\n",
       "<table border=\"1\" class=\"dataframe\">\n",
       "  <thead>\n",
       "    <tr style=\"text-align: right;\">\n",
       "      <th></th>\n",
       "      <th>Rating</th>\n",
       "    </tr>\n",
       "  </thead>\n",
       "  <tbody>\n",
       "  </tbody>\n",
       "</table>\n",
       "</div>"
      ],
      "text/plain": [
       "Empty DataFrame\n",
       "Columns: [Rating]\n",
       "Index: []"
      ]
     },
     "execution_count": 14,
     "metadata": {},
     "output_type": "execute_result"
    }
   ],
   "source": [
    "df = pd.isnull(dataset['Rating'])\n",
    "df1 = pd.DataFrame(df)\n",
    "df2 = df1[df1['Rating']==True]\n",
    "df2"
   ]
  },
  {
   "cell_type": "markdown",
   "metadata": {
    "papermill": {
     "duration": 0.04074,
     "end_time": "2024-03-26T00:37:04.621981",
     "exception": false,
     "start_time": "2024-03-26T00:37:04.581241",
     "status": "completed"
    },
    "tags": []
   },
   "source": [
    "## Now we know all that where does the movies counting start from"
   ]
  },
  {
   "cell_type": "code",
   "execution_count": 15,
   "metadata": {
    "execution": {
     "iopub.execute_input": "2024-03-26T00:37:04.708050Z",
     "iopub.status.busy": "2024-03-26T00:37:04.707447Z",
     "iopub.status.idle": "2024-03-26T00:37:04.710204Z",
     "shell.execute_reply": "2024-03-26T00:37:04.709586Z",
     "shell.execute_reply.started": "2024-03-25T23:42:00.797643Z"
    },
    "papermill": {
     "duration": 0.047992,
     "end_time": "2024-03-26T00:37:04.710307",
     "exception": false,
     "start_time": "2024-03-26T00:37:04.662315",
     "status": "completed"
    },
    "tags": []
   },
   "outputs": [],
   "source": [
    "df2 = df2.reset_index()\n",
    "df_nan = df2.copy()"
   ]
  },
  {
   "cell_type": "code",
   "execution_count": 16,
   "metadata": {
    "execution": {
     "iopub.execute_input": "2024-03-26T00:37:04.797097Z",
     "iopub.status.busy": "2024-03-26T00:37:04.796322Z",
     "iopub.status.idle": "2024-03-26T00:37:04.800175Z",
     "shell.execute_reply": "2024-03-26T00:37:04.799612Z",
     "shell.execute_reply.started": "2024-03-25T23:42:09.893277Z"
    },
    "papermill": {
     "duration": 0.049893,
     "end_time": "2024-03-26T00:37:04.800279",
     "exception": false,
     "start_time": "2024-03-26T00:37:04.750386",
     "status": "completed"
    },
    "tags": []
   },
   "outputs": [
    {
     "data": {
      "text/html": [
       "<div>\n",
       "<style scoped>\n",
       "    .dataframe tbody tr th:only-of-type {\n",
       "        vertical-align: middle;\n",
       "    }\n",
       "\n",
       "    .dataframe tbody tr th {\n",
       "        vertical-align: top;\n",
       "    }\n",
       "\n",
       "    .dataframe thead th {\n",
       "        text-align: right;\n",
       "    }\n",
       "</style>\n",
       "<table border=\"1\" class=\"dataframe\">\n",
       "  <thead>\n",
       "    <tr style=\"text-align: right;\">\n",
       "      <th></th>\n",
       "      <th>index</th>\n",
       "      <th>Rating</th>\n",
       "    </tr>\n",
       "  </thead>\n",
       "  <tbody>\n",
       "  </tbody>\n",
       "</table>\n",
       "</div>"
      ],
      "text/plain": [
       "Empty DataFrame\n",
       "Columns: [index, Rating]\n",
       "Index: []"
      ]
     },
     "execution_count": 16,
     "metadata": {},
     "output_type": "execute_result"
    }
   ],
   "source": [
    "df_nan"
   ]
  },
  {
   "cell_type": "code",
   "execution_count": 17,
   "metadata": {
    "execution": {
     "iopub.execute_input": "2024-03-26T00:37:04.886416Z",
     "iopub.status.busy": "2024-03-26T00:37:04.885800Z",
     "iopub.status.idle": "2024-03-26T00:37:10.513273Z",
     "shell.execute_reply": "2024-03-26T00:37:10.512621Z",
     "shell.execute_reply.started": "2024-03-25T23:46:13.695939Z"
    },
    "papermill": {
     "duration": 5.67268,
     "end_time": "2024-03-26T00:37:10.513386",
     "exception": false,
     "start_time": "2024-03-26T00:37:04.840706",
     "status": "completed"
    },
    "tags": []
   },
   "outputs": [
    {
     "name": "stdout",
     "output_type": "stream",
     "text": [
      "Movie numpy: [       1        2        3 ... 55541105 55541106 55541107]\n",
      "Length: 55541107\n"
     ]
    }
   ],
   "source": [
    "import numpy as np\n",
    "\n",
    "# Extract unique movie IDs from the 'MovieID' column\n",
    "unique_movie_ids = dataset.index.unique()\n",
    "\n",
    "# Get the total number of unique movies\n",
    "num_movies = len(unique_movie_ids)\n",
    "\n",
    "# Create a numpy array containing movie IDs\n",
    "movie_np = np.arange(1, num_movies + 1)\n",
    "\n",
    "# Print the movie numpy array and its length\n",
    "print(f'Movie numpy: {movie_np}')\n",
    "print(f'Length: {len(movie_np)}')\n"
   ]
  },
  {
   "cell_type": "code",
   "execution_count": 18,
   "metadata": {
    "execution": {
     "iopub.execute_input": "2024-03-26T00:37:10.605220Z",
     "iopub.status.busy": "2024-03-26T00:37:10.604173Z",
     "iopub.status.idle": "2024-03-26T00:37:13.224200Z",
     "shell.execute_reply": "2024-03-26T00:37:13.224768Z",
     "shell.execute_reply.started": "2024-03-25T23:48:01.362950Z"
    },
    "papermill": {
     "duration": 2.668799,
     "end_time": "2024-03-26T00:37:13.224941",
     "exception": false,
     "start_time": "2024-03-26T00:37:10.556142",
     "status": "completed"
    },
    "tags": []
   },
   "outputs": [
    {
     "name": "stdout",
     "output_type": "stream",
     "text": [
      "-Dataset examples-\n",
      "   MovieID  CustomerID  Rating                       Title\n",
      "0        8      785314     1.0  What the #$*! Do We Know!?\n",
      "1        8      243963     3.0  What the #$*! Do We Know!?\n",
      "2        8     1447783     4.0  What the #$*! Do We Know!?\n",
      "3        8     1912665     1.0  What the #$*! Do We Know!?\n",
      "4        8     1744889     1.0  What the #$*! Do We Know!?\n"
     ]
    }
   ],
   "source": [
    "# Remove rows with NaN values in the 'Rating' column\n",
    "dataset = dataset[pd.notnull(dataset['Rating'])]\n",
    "\n",
    "# Convert 'CustomerID' column to integers\n",
    "dataset['CustomerID'] = dataset['CustomerID'].astype(int)\n",
    "\n",
    "# Print some examples of the dataset\n",
    "print('-Dataset examples-')\n",
    "print(dataset.head())\n",
    "\n"
   ]
  },
  {
   "cell_type": "code",
   "execution_count": 19,
   "metadata": {
    "execution": {
     "iopub.execute_input": "2024-03-26T00:37:13.312551Z",
     "iopub.status.busy": "2024-03-26T00:37:13.311667Z",
     "iopub.status.idle": "2024-03-26T00:37:13.314514Z",
     "shell.execute_reply": "2024-03-26T00:37:13.313994Z",
     "shell.execute_reply.started": "2024-03-25T23:48:12.743807Z"
    },
    "papermill": {
     "duration": 0.048082,
     "end_time": "2024-03-26T00:37:13.314615",
     "exception": false,
     "start_time": "2024-03-26T00:37:13.266533",
     "status": "completed"
    },
    "tags": []
   },
   "outputs": [],
   "source": [
    "f = ['count','mean']"
   ]
  },
  {
   "cell_type": "code",
   "execution_count": 20,
   "metadata": {
    "execution": {
     "iopub.execute_input": "2024-03-26T00:37:13.402846Z",
     "iopub.status.busy": "2024-03-26T00:37:13.401917Z",
     "iopub.status.idle": "2024-03-26T00:37:20.299316Z",
     "shell.execute_reply": "2024-03-26T00:37:20.298746Z",
     "shell.execute_reply.started": "2024-03-25T23:49:01.274290Z"
    },
    "papermill": {
     "duration": 6.9432,
     "end_time": "2024-03-26T00:37:20.299437",
     "exception": false,
     "start_time": "2024-03-26T00:37:13.356237",
     "status": "completed"
    },
    "tags": []
   },
   "outputs": [],
   "source": [
    "#To create a list of all the movies rated less often(only include top 30% rated movies)\n",
    "dataset_movie_summary = dataset.groupby('MovieID')['Rating'].agg(f)\n",
    "\n",
    "dataset_movie_summary.index = dataset_movie_summary.index.map(int)\n",
    "\n"
   ]
  },
  {
   "cell_type": "code",
   "execution_count": 21,
   "metadata": {
    "execution": {
     "iopub.execute_input": "2024-03-26T00:37:20.388893Z",
     "iopub.status.busy": "2024-03-26T00:37:20.388183Z",
     "iopub.status.idle": "2024-03-26T00:37:20.394027Z",
     "shell.execute_reply": "2024-03-26T00:37:20.394470Z",
     "shell.execute_reply.started": "2024-03-25T23:49:17.515183Z"
    },
    "papermill": {
     "duration": 0.053255,
     "end_time": "2024-03-26T00:37:20.394605",
     "exception": false,
     "start_time": "2024-03-26T00:37:20.341350",
     "status": "completed"
    },
    "tags": []
   },
   "outputs": [
    {
     "name": "stdout",
     "output_type": "stream",
     "text": [
      "Movie minimum times of review: 17221.0\n"
     ]
    }
   ],
   "source": [
    "movie_benchmark = round(dataset_movie_summary['count'].quantile(0.7),0)\n",
    "\n",
    "drop_movie_list = dataset_movie_summary[dataset_movie_summary['count'] < movie_benchmark].index\n",
    "\n",
    "print('Movie minimum times of review: {}'.format(movie_benchmark))"
   ]
  },
  {
   "cell_type": "markdown",
   "metadata": {
    "papermill": {
     "duration": 0.042671,
     "end_time": "2024-03-26T00:37:20.478686",
     "exception": false,
     "start_time": "2024-03-26T00:37:20.436015",
     "status": "completed"
    },
    "tags": []
   },
   "source": [
    "FOR 0.7 QUANTILE- Movie minimum times of review: 17221.0\n"
   ]
  },
  {
   "cell_type": "code",
   "execution_count": 22,
   "metadata": {
    "execution": {
     "iopub.execute_input": "2024-03-26T00:37:20.568031Z",
     "iopub.status.busy": "2024-03-26T00:37:20.567139Z",
     "iopub.status.idle": "2024-03-26T00:37:20.572050Z",
     "shell.execute_reply": "2024-03-26T00:37:20.572490Z",
     "shell.execute_reply.started": "2024-03-25T23:49:54.223387Z"
    },
    "papermill": {
     "duration": 0.052851,
     "end_time": "2024-03-26T00:37:20.572612",
     "exception": false,
     "start_time": "2024-03-26T00:37:20.519761",
     "status": "completed"
    },
    "tags": []
   },
   "outputs": [
    {
     "name": "stdout",
     "output_type": "stream",
     "text": [
      "Movie minimum times of review: 24868.0\n"
     ]
    }
   ],
   "source": [
    "movie_benchmark = round(dataset_movie_summary['count'].quantile(0.8),0)\n",
    "\n",
    "drop_movie_list = dataset_movie_summary[dataset_movie_summary['count'] < movie_benchmark].index\n",
    "\n",
    "print('Movie minimum times of review: {}'.format(movie_benchmark))"
   ]
  },
  {
   "cell_type": "markdown",
   "metadata": {
    "papermill": {
     "duration": 0.041485,
     "end_time": "2024-03-26T00:37:20.656115",
     "exception": false,
     "start_time": "2024-03-26T00:37:20.614630",
     "status": "completed"
    },
    "tags": []
   },
   "source": [
    "FOR 0.7 QUANTILE- Movie minimum times of review: 24868.0\n",
    "\n"
   ]
  },
  {
   "cell_type": "code",
   "execution_count": 23,
   "metadata": {
    "execution": {
     "iopub.execute_input": "2024-03-26T00:37:20.746622Z",
     "iopub.status.busy": "2024-03-26T00:37:20.745758Z",
     "iopub.status.idle": "2024-03-26T00:37:23.054545Z",
     "shell.execute_reply": "2024-03-26T00:37:23.054010Z",
     "shell.execute_reply.started": "2024-03-25T23:51:13.527832Z"
    },
    "papermill": {
     "duration": 2.356858,
     "end_time": "2024-03-26T00:37:23.054653",
     "exception": false,
     "start_time": "2024-03-26T00:37:20.697795",
     "status": "completed"
    },
    "tags": []
   },
   "outputs": [
    {
     "name": "stdout",
     "output_type": "stream",
     "text": [
      "Customer minimum times of review: 637.0\n"
     ]
    }
   ],
   "source": [
    "#To create a list of all the inactive users(users who rate less often)\n",
    "dataset_cust_summary = dataset.groupby('CustomerID')['Rating'].agg(f)\n",
    "dataset_cust_summary.index = dataset_cust_summary.index.map(int)\n",
    "cust_benchmark = round(dataset_cust_summary['count'].quantile(0.7),0)\n",
    "drop_cust_list = dataset_cust_summary[dataset_cust_summary['count'] < cust_benchmark].index\n",
    "\n",
    "print(f'Customer minimum times of review: {cust_benchmark}')"
   ]
  },
  {
   "cell_type": "code",
   "execution_count": 24,
   "metadata": {
    "execution": {
     "iopub.execute_input": "2024-03-26T00:37:23.145787Z",
     "iopub.status.busy": "2024-03-26T00:37:23.145216Z",
     "iopub.status.idle": "2024-03-26T00:37:25.471266Z",
     "shell.execute_reply": "2024-03-26T00:37:25.470662Z",
     "shell.execute_reply.started": "2024-03-25T23:51:34.903220Z"
    },
    "papermill": {
     "duration": 2.374278,
     "end_time": "2024-03-26T00:37:25.471384",
     "exception": false,
     "start_time": "2024-03-26T00:37:23.097106",
     "status": "completed"
    },
    "tags": []
   },
   "outputs": [
    {
     "name": "stdout",
     "output_type": "stream",
     "text": [
      "Customer minimum times of review: 759.0\n"
     ]
    }
   ],
   "source": [
    "#To create a list of all the inactive users(users who rate less often)\n",
    "dataset_cust_summary = dataset.groupby('CustomerID')['Rating'].agg(f)\n",
    "dataset_cust_summary.index = dataset_cust_summary.index.map(int)\n",
    "cust_benchmark = round(dataset_cust_summary['count'].quantile(0.8),0)\n",
    "drop_cust_list = dataset_cust_summary[dataset_cust_summary['count'] < cust_benchmark].index\n",
    "\n",
    "print(f'Customer minimum times of review: {cust_benchmark}')"
   ]
  },
  {
   "cell_type": "code",
   "execution_count": 25,
   "metadata": {
    "execution": {
     "iopub.execute_input": "2024-03-26T00:37:25.564163Z",
     "iopub.status.busy": "2024-03-26T00:37:25.563561Z",
     "iopub.status.idle": "2024-03-26T00:37:25.566615Z",
     "shell.execute_reply": "2024-03-26T00:37:25.566119Z",
     "shell.execute_reply.started": "2024-03-25T23:51:46.991452Z"
    },
    "papermill": {
     "duration": 0.051235,
     "end_time": "2024-03-26T00:37:25.566712",
     "exception": false,
     "start_time": "2024-03-26T00:37:25.515477",
     "status": "completed"
    },
    "tags": []
   },
   "outputs": [
    {
     "name": "stdout",
     "output_type": "stream",
     "text": [
      "Original Shape: (55541107, 4)\n"
     ]
    }
   ],
   "source": [
    "print(f'Original Shape: {dataset.shape}')\n"
   ]
  },
  {
   "cell_type": "code",
   "execution_count": 26,
   "metadata": {
    "execution": {
     "iopub.execute_input": "2024-03-26T00:37:25.658251Z",
     "iopub.status.busy": "2024-03-26T00:37:25.657624Z",
     "iopub.status.idle": "2024-03-26T00:37:36.311268Z",
     "shell.execute_reply": "2024-03-26T00:37:36.310668Z",
     "shell.execute_reply.started": "2024-03-25T23:52:25.798826Z"
    },
    "papermill": {
     "duration": 10.701814,
     "end_time": "2024-03-26T00:37:36.311383",
     "exception": false,
     "start_time": "2024-03-26T00:37:25.609569",
     "status": "completed"
    },
    "tags": []
   },
   "outputs": [
    {
     "name": "stdout",
     "output_type": "stream",
     "text": [
      "After Trim Shape: (8959277, 4)\n"
     ]
    }
   ],
   "source": [
    "dataset = dataset[~dataset['MovieID'].isin(drop_movie_list)]\n",
    "dataset = dataset[~dataset['CustomerID'].isin(drop_cust_list)]\n",
    "print('After Trim Shape: {}'.format(dataset.shape))"
   ]
  },
  {
   "cell_type": "code",
   "execution_count": 27,
   "metadata": {
    "execution": {
     "iopub.execute_input": "2024-03-26T00:37:36.423409Z",
     "iopub.status.busy": "2024-03-26T00:37:36.422454Z",
     "iopub.status.idle": "2024-03-26T00:37:36.426658Z",
     "shell.execute_reply": "2024-03-26T00:37:36.427292Z",
     "shell.execute_reply.started": "2024-03-25T23:53:09.234348Z"
    },
    "papermill": {
     "duration": 0.072331,
     "end_time": "2024-03-26T00:37:36.427449",
     "exception": false,
     "start_time": "2024-03-26T00:37:36.355118",
     "status": "completed"
    },
    "tags": []
   },
   "outputs": [
    {
     "name": "stdout",
     "output_type": "stream",
     "text": [
      "-Data Examples-\n"
     ]
    },
    {
     "data": {
      "text/html": [
       "<div>\n",
       "<style scoped>\n",
       "    .dataframe tbody tr th:only-of-type {\n",
       "        vertical-align: middle;\n",
       "    }\n",
       "\n",
       "    .dataframe tbody tr th {\n",
       "        vertical-align: top;\n",
       "    }\n",
       "\n",
       "    .dataframe thead th {\n",
       "        text-align: right;\n",
       "    }\n",
       "</style>\n",
       "<table border=\"1\" class=\"dataframe\">\n",
       "  <thead>\n",
       "    <tr style=\"text-align: right;\">\n",
       "      <th></th>\n",
       "      <th>MovieID</th>\n",
       "      <th>CustomerID</th>\n",
       "      <th>Rating</th>\n",
       "      <th>Title</th>\n",
       "    </tr>\n",
       "  </thead>\n",
       "  <tbody>\n",
       "    <tr>\n",
       "      <th>22130</th>\n",
       "      <td>28</td>\n",
       "      <td>1990901</td>\n",
       "      <td>5.0</td>\n",
       "      <td>Lilo and Stitch</td>\n",
       "    </tr>\n",
       "    <tr>\n",
       "      <th>22133</th>\n",
       "      <td>28</td>\n",
       "      <td>765331</td>\n",
       "      <td>3.0</td>\n",
       "      <td>Lilo and Stitch</td>\n",
       "    </tr>\n",
       "    <tr>\n",
       "      <th>22134</th>\n",
       "      <td>28</td>\n",
       "      <td>1987434</td>\n",
       "      <td>4.0</td>\n",
       "      <td>Lilo and Stitch</td>\n",
       "    </tr>\n",
       "    <tr>\n",
       "      <th>22136</th>\n",
       "      <td>28</td>\n",
       "      <td>2193455</td>\n",
       "      <td>4.0</td>\n",
       "      <td>Lilo and Stitch</td>\n",
       "    </tr>\n",
       "    <tr>\n",
       "      <th>22137</th>\n",
       "      <td>28</td>\n",
       "      <td>1468812</td>\n",
       "      <td>4.0</td>\n",
       "      <td>Lilo and Stitch</td>\n",
       "    </tr>\n",
       "  </tbody>\n",
       "</table>\n",
       "</div>"
      ],
      "text/plain": [
       "       MovieID  CustomerID  Rating            Title\n",
       "22130       28     1990901     5.0  Lilo and Stitch\n",
       "22133       28      765331     3.0  Lilo and Stitch\n",
       "22134       28     1987434     4.0  Lilo and Stitch\n",
       "22136       28     2193455     4.0  Lilo and Stitch\n",
       "22137       28     1468812     4.0  Lilo and Stitch"
      ]
     },
     "execution_count": 27,
     "metadata": {},
     "output_type": "execute_result"
    }
   ],
   "source": [
    "print('-Data Examples-')\n",
    "dataset.head()"
   ]
  },
  {
   "cell_type": "markdown",
   "metadata": {
    "papermill": {
     "duration": 0.044584,
     "end_time": "2024-03-26T00:37:36.517223",
     "exception": false,
     "start_time": "2024-03-26T00:37:36.472639",
     "status": "completed"
    },
    "tags": []
   },
   "source": [
    "# Create ratings matrix for 'ratings' matrix with Rows = userId, Columns = movieId"
   ]
  },
  {
   "cell_type": "code",
   "execution_count": 28,
   "metadata": {
    "execution": {
     "iopub.execute_input": "2024-03-26T00:37:36.705539Z",
     "iopub.status.busy": "2024-03-26T00:37:36.704861Z",
     "iopub.status.idle": "2024-03-26T00:37:44.259304Z",
     "shell.execute_reply": "2024-03-26T00:37:44.258622Z",
     "shell.execute_reply.started": "2024-03-25T23:53:37.007852Z"
    },
    "papermill": {
     "duration": 7.697918,
     "end_time": "2024-03-26T00:37:44.259420",
     "exception": false,
     "start_time": "2024-03-26T00:37:36.561502",
     "status": "completed"
    },
    "tags": []
   },
   "outputs": [
    {
     "name": "stdout",
     "output_type": "stream",
     "text": [
      "(19292, 701)\n"
     ]
    }
   ],
   "source": [
    "df_p = pd.pivot_table(dataset,values='Rating',index='CustomerID',columns='MovieID')\n",
    "\n",
    "print(df_p.shape)"
   ]
  },
  {
   "cell_type": "code",
   "execution_count": 29,
   "metadata": {
    "execution": {
     "iopub.execute_input": "2024-03-26T00:37:44.355296Z",
     "iopub.status.busy": "2024-03-26T00:37:44.354586Z",
     "iopub.status.idle": "2024-03-26T00:37:44.385457Z",
     "shell.execute_reply": "2024-03-26T00:37:44.384920Z",
     "shell.execute_reply.started": "2024-03-26T00:14:49.332516Z"
    },
    "papermill": {
     "duration": 0.080961,
     "end_time": "2024-03-26T00:37:44.385569",
     "exception": false,
     "start_time": "2024-03-26T00:37:44.304608",
     "status": "completed"
    },
    "tags": []
   },
   "outputs": [
    {
     "name": "stdout",
     "output_type": "stream",
     "text": [
      "            Year                          Name\n",
      "Movie_Id                                      \n",
      "1         2003.0               Dinosaur Planet\n",
      "2         2004.0    Isle of Man TT 2004 Review\n",
      "3         1997.0                     Character\n",
      "4         1994.0  Paula Abdul's Get Up & Dance\n",
      "5         2004.0      The Rise and Fall of ECW\n",
      "6         1997.0                          Sick\n",
      "7         1992.0                         8 Man\n",
      "8         2004.0    What the #$*! Do We Know!?\n",
      "9         1991.0      Class of Nuke 'Em High 2\n",
      "10        2001.0                       Fighter\n"
     ]
    }
   ],
   "source": [
    "df_title = pd.read_csv('/kaggle/input/netflix-prize-data/movie_titles.csv', encoding = \"ISO-8859-1\", header = None, names = ['Movie_Id', 'Year', 'Name'])\n",
    "\n",
    "df_title.set_index('Movie_Id', inplace = True)\n",
    "\n",
    "print (df_title.head(10))"
   ]
  },
  {
   "cell_type": "markdown",
   "metadata": {
    "papermill": {
     "duration": 0.044863,
     "end_time": "2024-03-26T00:37:44.475425",
     "exception": false,
     "start_time": "2024-03-26T00:37:44.430562",
     "status": "completed"
    },
    "tags": []
   },
   "source": [
    "# To install the scikit-surprise library for implementing SVD"
   ]
  },
  {
   "cell_type": "code",
   "execution_count": 30,
   "metadata": {
    "execution": {
     "iopub.execute_input": "2024-03-26T00:37:44.572465Z",
     "iopub.status.busy": "2024-03-26T00:37:44.571832Z",
     "iopub.status.idle": "2024-03-26T00:37:44.679478Z",
     "shell.execute_reply": "2024-03-26T00:37:44.678867Z",
     "shell.execute_reply.started": "2024-03-26T00:14:56.499105Z"
    },
    "papermill": {
     "duration": 0.158936,
     "end_time": "2024-03-26T00:37:44.679576",
     "exception": false,
     "start_time": "2024-03-26T00:37:44.520640",
     "status": "completed"
    },
    "tags": []
   },
   "outputs": [],
   "source": [
    "# Import required libraries\n",
    "import math\n",
    "import re\n",
    "import matplotlib.pyplot as plt\n",
    "\n",
    "from surprise import Reader, Dataset, SVD\n",
    "from surprise.model_selection import cross_validate"
   ]
  },
  {
   "cell_type": "code",
   "execution_count": 31,
   "metadata": {
    "execution": {
     "iopub.execute_input": "2024-03-26T00:37:44.890974Z",
     "iopub.status.busy": "2024-03-26T00:37:44.854983Z",
     "iopub.status.idle": "2024-03-26T00:38:07.010388Z",
     "shell.execute_reply": "2024-03-26T00:38:07.009751Z",
     "shell.execute_reply.started": "2024-03-26T00:15:21.156187Z"
    },
    "papermill": {
     "duration": 22.286149,
     "end_time": "2024-03-26T00:38:07.010508",
     "exception": false,
     "start_time": "2024-03-26T00:37:44.724359",
     "status": "completed"
    },
    "tags": []
   },
   "outputs": [
    {
     "name": "stdout",
     "output_type": "stream",
     "text": [
      "Evaluating RMSE, MAE of algorithm SVD on 3 split(s).\n",
      "\n",
      "                  Fold 1  Fold 2  Fold 3  Mean    Std     \n",
      "RMSE (testset)    0.9486  0.9505  0.9480  0.9490  0.0011  \n",
      "MAE (testset)     0.7498  0.7539  0.7539  0.7525  0.0019  \n",
      "Fit time          6.64    6.68    6.65    6.65    0.02    \n",
      "Test time         0.45    0.44    0.45    0.45    0.00    \n"
     ]
    },
    {
     "data": {
      "text/plain": [
       "{'test_rmse': array([0.94856037, 0.95050824, 0.94804655]),\n",
       " 'test_mae': array([0.74979416, 0.75387636, 0.75391558]),\n",
       " 'fit_time': (6.638631582260132, 6.6750404834747314, 6.647518634796143),\n",
       " 'test_time': (0.45343685150146484, 0.44234323501586914, 0.4458293914794922)}"
      ]
     },
     "execution_count": 31,
     "metadata": {},
     "output_type": "execute_result"
    }
   ],
   "source": [
    "# Load Reader library\n",
    "reader = Reader()\n",
    "\n",
    "# get just top 100K rows for faster run time\n",
    "data = Dataset.load_from_df(dataset[['CustomerID', 'MovieID', 'Rating']][:100000], reader)\n",
    "\n",
    "# Use the SVD algorithm.\n",
    "svd = SVD()\n",
    "\n",
    "# Compute the RMSE of the SVD algorithm\n",
    "cross_validate(svd, data, measures=['RMSE', 'MAE'], cv=3, verbose=True)"
   ]
  },
  {
   "cell_type": "code",
   "execution_count": 32,
   "metadata": {
    "execution": {
     "iopub.execute_input": "2024-03-26T00:38:07.113650Z",
     "iopub.status.busy": "2024-03-26T00:38:07.112759Z",
     "iopub.status.idle": "2024-03-26T00:38:07.117008Z",
     "shell.execute_reply": "2024-03-26T00:38:07.116497Z",
     "shell.execute_reply.started": "2024-03-26T00:15:57.646083Z"
    },
    "papermill": {
     "duration": 0.059356,
     "end_time": "2024-03-26T00:38:07.117117",
     "exception": false,
     "start_time": "2024-03-26T00:38:07.057761",
     "status": "completed"
    },
    "tags": []
   },
   "outputs": [
    {
     "data": {
      "text/html": [
       "<div>\n",
       "<style scoped>\n",
       "    .dataframe tbody tr th:only-of-type {\n",
       "        vertical-align: middle;\n",
       "    }\n",
       "\n",
       "    .dataframe tbody tr th {\n",
       "        vertical-align: top;\n",
       "    }\n",
       "\n",
       "    .dataframe thead th {\n",
       "        text-align: right;\n",
       "    }\n",
       "</style>\n",
       "<table border=\"1\" class=\"dataframe\">\n",
       "  <thead>\n",
       "    <tr style=\"text-align: right;\">\n",
       "      <th></th>\n",
       "      <th>MovieID</th>\n",
       "      <th>CustomerID</th>\n",
       "      <th>Rating</th>\n",
       "      <th>Title</th>\n",
       "    </tr>\n",
       "  </thead>\n",
       "  <tbody>\n",
       "    <tr>\n",
       "      <th>22130</th>\n",
       "      <td>28</td>\n",
       "      <td>1990901</td>\n",
       "      <td>5.0</td>\n",
       "      <td>Lilo and Stitch</td>\n",
       "    </tr>\n",
       "    <tr>\n",
       "      <th>22133</th>\n",
       "      <td>28</td>\n",
       "      <td>765331</td>\n",
       "      <td>3.0</td>\n",
       "      <td>Lilo and Stitch</td>\n",
       "    </tr>\n",
       "    <tr>\n",
       "      <th>22134</th>\n",
       "      <td>28</td>\n",
       "      <td>1987434</td>\n",
       "      <td>4.0</td>\n",
       "      <td>Lilo and Stitch</td>\n",
       "    </tr>\n",
       "    <tr>\n",
       "      <th>22136</th>\n",
       "      <td>28</td>\n",
       "      <td>2193455</td>\n",
       "      <td>4.0</td>\n",
       "      <td>Lilo and Stitch</td>\n",
       "    </tr>\n",
       "    <tr>\n",
       "      <th>22137</th>\n",
       "      <td>28</td>\n",
       "      <td>1468812</td>\n",
       "      <td>4.0</td>\n",
       "      <td>Lilo and Stitch</td>\n",
       "    </tr>\n",
       "  </tbody>\n",
       "</table>\n",
       "</div>"
      ],
      "text/plain": [
       "       MovieID  CustomerID  Rating            Title\n",
       "22130       28     1990901     5.0  Lilo and Stitch\n",
       "22133       28      765331     3.0  Lilo and Stitch\n",
       "22134       28     1987434     4.0  Lilo and Stitch\n",
       "22136       28     2193455     4.0  Lilo and Stitch\n",
       "22137       28     1468812     4.0  Lilo and Stitch"
      ]
     },
     "execution_count": 32,
     "metadata": {},
     "output_type": "execute_result"
    }
   ],
   "source": [
    "dataset.head()"
   ]
  },
  {
   "cell_type": "code",
   "execution_count": 33,
   "metadata": {
    "execution": {
     "iopub.execute_input": "2024-03-26T00:38:07.214282Z",
     "iopub.status.busy": "2024-03-26T00:38:07.213655Z",
     "iopub.status.idle": "2024-03-26T00:38:07.248763Z",
     "shell.execute_reply": "2024-03-26T00:38:07.248053Z",
     "shell.execute_reply.started": "2024-03-26T00:16:20.099184Z"
    },
    "papermill": {
     "duration": 0.085904,
     "end_time": "2024-03-26T00:38:07.248908",
     "exception": false,
     "start_time": "2024-03-26T00:38:07.163004",
     "status": "completed"
    },
    "tags": []
   },
   "outputs": [
    {
     "data": {
      "text/plain": [
       "MovieID\n",
       "175            Reservoir Dogs\n",
       "199           The Deer Hunter\n",
       "241        North by Northwest\n",
       "357     House of Sand and Fog\n",
       "457         Kill Bill: Vol. 2\n",
       "571           American Beauty\n",
       "708         The Perfect Storm\n",
       "788                    Clerks\n",
       "798                      Jaws\n",
       "1102             Training Day\n",
       "Name: Name, dtype: object"
      ]
     },
     "execution_count": 33,
     "metadata": {},
     "output_type": "execute_result"
    }
   ],
   "source": [
    "dataset_712664 = dataset[(dataset['CustomerID'] == 712664) & (dataset['Rating'] == 5)]\n",
    "dataset_712664 = dataset_712664.set_index('MovieID')\n",
    "dataset_712664 = dataset_712664.join(df_title)['Name']\n",
    "dataset_712664.head(10)"
   ]
  },
  {
   "cell_type": "markdown",
   "metadata": {
    "papermill": {
     "duration": 0.04606,
     "end_time": "2024-03-26T00:38:07.341715",
     "exception": false,
     "start_time": "2024-03-26T00:38:07.295655",
     "status": "completed"
    },
    "tags": []
   },
   "source": [
    "# Train an SVD to predict ratings for user with userId = 1"
   ]
  },
  {
   "cell_type": "code",
   "execution_count": 34,
   "metadata": {
    "execution": {
     "iopub.execute_input": "2024-03-26T00:38:07.441735Z",
     "iopub.status.busy": "2024-03-26T00:38:07.440837Z",
     "iopub.status.idle": "2024-03-26T00:38:07.448182Z",
     "shell.execute_reply": "2024-03-26T00:38:07.447565Z",
     "shell.execute_reply.started": "2024-03-26T00:16:57.703350Z"
    },
    "papermill": {
     "duration": 0.059389,
     "end_time": "2024-03-26T00:38:07.448282",
     "exception": false,
     "start_time": "2024-03-26T00:38:07.388893",
     "status": "completed"
    },
    "tags": []
   },
   "outputs": [],
   "source": [
    "# Create a shallow copy for the movies dataset\n",
    "user_712664 = df_title.copy()\n",
    "\n",
    "user_712664 = user_712664.reset_index()\n",
    "\n",
    "#To remove all the movies rated less often \n",
    "user_712664 = user_712664[~user_712664['Movie_Id'].isin(drop_movie_list)]\n"
   ]
  },
  {
   "cell_type": "code",
   "execution_count": 35,
   "metadata": {
    "execution": {
     "iopub.execute_input": "2024-03-26T00:38:07.614278Z",
     "iopub.status.busy": "2024-03-26T00:38:07.589649Z",
     "iopub.status.idle": "2024-03-26T00:38:21.285635Z",
     "shell.execute_reply": "2024-03-26T00:38:21.285105Z",
     "shell.execute_reply.started": "2024-03-26T00:17:27.430956Z"
    },
    "papermill": {
     "duration": 13.791071,
     "end_time": "2024-03-26T00:38:21.285753",
     "exception": false,
     "start_time": "2024-03-26T00:38:07.494682",
     "status": "completed"
    },
    "tags": []
   },
   "outputs": [],
   "source": [
    "# getting full dataset\n",
    "data = Dataset.load_from_df(dataset[['CustomerID', 'MovieID', 'Rating']], reader)"
   ]
  },
  {
   "cell_type": "code",
   "execution_count": 36,
   "metadata": {
    "execution": {
     "iopub.execute_input": "2024-03-26T00:38:21.423143Z",
     "iopub.status.busy": "2024-03-26T00:38:21.417938Z",
     "iopub.status.idle": "2024-03-26T00:53:19.170374Z",
     "shell.execute_reply": "2024-03-26T00:53:19.169555Z",
     "shell.execute_reply.started": "2024-03-26T00:18:18.155964Z"
    },
    "papermill": {
     "duration": 897.837644,
     "end_time": "2024-03-26T00:53:19.170541",
     "exception": false,
     "start_time": "2024-03-26T00:38:21.332897",
     "status": "completed"
    },
    "tags": []
   },
   "outputs": [],
   "source": [
    "#create a training set for svd\n",
    "trainset = data.build_full_trainset()\n",
    "svd.fit(trainset)\n",
    "\n",
    "#Predict the ratings for user_712664\n",
    "user_712664['Estimate_Score'] = user_712664['Movie_Id'].apply(lambda x: svd.predict(712664, x).est)\n",
    "\n",
    "#Drop extra columns from the user_712664 data frame\n",
    "user_712664 = user_712664.drop('Movie_Id', axis = 1)"
   ]
  },
  {
   "cell_type": "code",
   "execution_count": 37,
   "metadata": {
    "execution": {
     "iopub.execute_input": "2024-03-26T00:53:19.269490Z",
     "iopub.status.busy": "2024-03-26T00:53:19.268849Z",
     "iopub.status.idle": "2024-03-26T00:53:19.276890Z",
     "shell.execute_reply": "2024-03-26T00:53:19.276278Z",
     "shell.execute_reply.started": "2024-03-26T00:33:33.651103Z"
    },
    "papermill": {
     "duration": 0.058848,
     "end_time": "2024-03-26T00:53:19.276990",
     "exception": false,
     "start_time": "2024-03-26T00:53:19.218142",
     "status": "completed"
    },
    "tags": []
   },
   "outputs": [
    {
     "name": "stdout",
     "output_type": "stream",
     "text": [
      "         Year                               Name  Estimate_Score\n",
      "16264  1977.0  Star Wars: Episode IV: A New Hope             5.0\n",
      "12292  1972.0                      The Godfather             5.0\n",
      "6116   1970.0                             Patton             5.0\n",
      "17338  1987.0                  Full Metal Jacket             5.0\n",
      "16603  1992.0                         Unforgiven             5.0\n",
      "11063  1994.0                       Pulp Fiction             5.0\n",
      "5731   1990.0        GoodFellas: Special Edition             5.0\n",
      "174    1992.0                     Reservoir Dogs             5.0\n",
      "5560   1967.0                     Cool Hand Luke             5.0\n",
      "6098   1979.0                     Apocalypse Now             5.0\n"
     ]
    }
   ],
   "source": [
    "# Sort predicted ratings for user_712664 in descending order\n",
    "user_712664 = user_712664.sort_values('Estimate_Score', ascending=False)\n",
    "\n",
    "#Print top 10 recommendations\n",
    "print(user_712664.head(10))"
   ]
  }
 ],
 "metadata": {
  "kaggle": {
   "accelerator": "gpu",
   "dataSources": [
    {
     "datasetId": 4639208,
     "sourceId": 7899642,
     "sourceType": "datasetVersion"
    },
    {
     "datasetId": 1636,
     "sourceId": 792972,
     "sourceType": "datasetVersion"
    }
   ],
   "dockerImageVersionId": 29956,
   "isGpuEnabled": true,
   "isInternetEnabled": true,
   "language": "python",
   "sourceType": "notebook"
  },
  "kernelspec": {
   "display_name": "Python 3",
   "language": "python",
   "name": "python3"
  },
  "language_info": {
   "codemirror_mode": {
    "name": "ipython",
    "version": 3
   },
   "file_extension": ".py",
   "mimetype": "text/x-python",
   "name": "python",
   "nbconvert_exporter": "python",
   "pygments_lexer": "ipython3",
   "version": "3.7.6"
  },
  "papermill": {
   "duration": 1020.804087,
   "end_time": "2024-03-26T00:53:19.629676",
   "environment_variables": {},
   "exception": null,
   "input_path": "__notebook__.ipynb",
   "output_path": "__notebook__.ipynb",
   "parameters": {},
   "start_time": "2024-03-26T00:36:18.825589",
   "version": "2.1.0"
  }
 },
 "nbformat": 4,
 "nbformat_minor": 4
}
